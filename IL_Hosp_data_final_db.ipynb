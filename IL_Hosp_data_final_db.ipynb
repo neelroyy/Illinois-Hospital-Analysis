{
 "cells": [
  {
   "cell_type": "code",
   "execution_count": null,
   "id": "df2461ae",
   "metadata": {},
   "outputs": [],
   "source": [
    "import pandas as pd"
   ]
  },
  {
   "cell_type": "code",
   "execution_count": null,
   "id": "00c70a35",
   "metadata": {},
   "outputs": [],
   "source": [
    "il_hospital_lat_long_df = pd.read_csv('data/il_hospital_coord_rev.csv')\n",
    "# il_hospital_lat_long_df\n",
    "il_hospital_lat_long_df1=il_hospital_lat_long_df[['hospital_name','latitude','longitude','google_stars']]\n",
    "il_hospital_lat_long_df1"
   ]
  },
  {
   "cell_type": "code",
   "execution_count": null,
   "id": "ca7550af",
   "metadata": {},
   "outputs": [],
   "source": [
    "hospital_data_clean = pd.read_csv('data/hospital_data_clean.csv')\n",
    "# hospital_data_clean\n",
    "hospital_data_df = hospital_data_clean.rename(columns = {'Hospital Name': 'hospital_name','City': 'city', 'StaffedBeds'\n",
    "                                                         : 'staffedbeds', 'TotalDischarges': 'totaldischarges',\n",
    "                                                         'PatientDays': 'patientdays', 'Gross PatientRevenue ($000)': \n",
    "                                                         'gross_patientrevenue_usd'})\n",
    "hospital_data_df"
   ]
  },
  {
   "cell_type": "code",
   "execution_count": null,
   "id": "2aede334",
   "metadata": {},
   "outputs": [],
   "source": [
    "hospital_data_final = pd.merge(hospital_data_df, il_hospital_lat_long_df1, on=['hospital_name'])\n",
    "hospital_data_final"
   ]
  },
  {
   "cell_type": "code",
   "execution_count": null,
   "id": "ba1a0fe6",
   "metadata": {},
   "outputs": [],
   "source": [
    "hospital_data_final.to_csv(r'data/hospital_data_final.csv', index=False)"
   ]
  },
  {
   "cell_type": "code",
   "execution_count": null,
   "id": "ed8f1053",
   "metadata": {},
   "outputs": [],
   "source": [
    "#Connect to local database\n",
    "from sqlalchemy import create_engine\n",
    "# from config import username\n",
    "# from config import password\n",
    "username = 'postgres'\n",
    "password = '****'\n",
    "protocol = 'postgresql'\n",
    "host = 'localhost'\n",
    "port = 5432\n",
    "database_name = 'hospital_data_final_db'\n",
    "rds_connection_string = f'{protocol}://{username}:{password}@{host}:{port}/{database_name}'\n",
    "engine = create_engine(rds_connection_string)"
   ]
  },
  {
   "cell_type": "code",
   "execution_count": null,
   "id": "a1cea558",
   "metadata": {},
   "outputs": [],
   "source": [
    "#Confirm table\n",
    "engine.table_names()"
   ]
  },
  {
   "cell_type": "code",
   "execution_count": null,
   "id": "1b576c87",
   "metadata": {},
   "outputs": [],
   "source": [
    "#Load final dataframe to database\n",
    "hospital_data_final.to_sql(name='hospital_data_final', con=engine, if_exists='append', index=False)"
   ]
  },
  {
   "cell_type": "code",
   "execution_count": null,
   "id": "57a83aa6",
   "metadata": {},
   "outputs": [],
   "source": [
    "pd.read_sql_query('select * from hospital_data_final', con=engine).head()"
   ]
  }
 ],
 "metadata": {
  "kernelspec": {
   "display_name": "Python [conda env:PythonData38] *",
   "language": "python",
   "name": "conda-env-PythonData38-py"
  },
  "language_info": {
   "codemirror_mode": {
    "name": "ipython",
    "version": 3
   },
   "file_extension": ".py",
   "mimetype": "text/x-python",
   "name": "python",
   "nbconvert_exporter": "python",
   "pygments_lexer": "ipython3",
   "version": "3.8.12"
  }
 },
 "nbformat": 4,
 "nbformat_minor": 5
}
